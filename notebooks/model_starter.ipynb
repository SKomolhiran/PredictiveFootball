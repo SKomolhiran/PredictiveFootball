{
 "cells": [
  {
   "cell_type": "markdown",
   "id": "a4c4b7e4",
   "metadata": {},
   "source": [
    "# 🧠 Football Match Outcome Predictor — First Model"
   ]
  },
  {
   "cell_type": "code",
   "execution_count": 2,
   "id": "cacfd1c4",
   "metadata": {},
   "outputs": [],
   "source": [
    "import pandas as pd\n",
    "import numpy as np\n",
    "from sklearn.ensemble import GradientBoostingClassifier\n",
    "from sklearn.model_selection import train_test_split\n",
    "from sklearn.metrics import log_loss, accuracy_score, classification_report\n",
    "import matplotlib.pyplot as plt\n",
    "import seaborn as sns"
   ]
  },
  {
   "cell_type": "code",
   "execution_count": 5,
   "id": "751e745f",
   "metadata": {},
   "outputs": [
    {
     "name": "stdout",
     "output_type": "stream",
     "text": [
      "Loaded 9410 valid matches.\n"
     ]
    }
   ],
   "source": [
    "df = pd.read_csv(\"../data/raw/matches.csv\", parse_dates=[\"date\"])\n",
    "df = df[df[\"pre_vig_ok\"] == True]  # filter valid rows\n",
    "df = df[df[\"fulltime_result\"].notna()]  # ensure label exists\n",
    "print(f\"Loaded {len(df)} valid matches.\")"
   ]
  },
  {
   "cell_type": "code",
   "execution_count": null,
   "id": "553e9a39",
   "metadata": {},
   "outputs": [],
   "source": [
    "# Convert H/D/A to numbers\n",
    "label_map = {\"H\": 0, \"D\": 1, \"A\": 2}\n",
    "df[\"target\"] = df[\"fulltime_result\"].map(label_map)\n",
    "df = df[df[\"target\"].notna()]"
   ]
  },
  {
   "cell_type": "code",
   "execution_count": null,
   "id": "33d2d4bc",
   "metadata": {},
   "outputs": [],
   "source": [
    "features = [\"pre_p_H\", \"pre_p_D\", \"pre_p_A\"]\n",
    "X = df[features]\n",
    "y = df[\"target\"]"
   ]
  },
  {
   "cell_type": "code",
   "execution_count": null,
   "id": "33a8080b",
   "metadata": {},
   "outputs": [],
   "source": [
    "# Chronological split: train on old matches, test on recent ones\n",
    "df_sorted = df.sort_values(\"date\")\n",
    "split_date = \"2018-07-01\"\n",
    "train_df = df_sorted[df_sorted[\"date\"] < split_date]\n",
    "test_df = df_sorted[df_sorted[\"date\"] >= split_date]\n",
    "\n",
    "X_train = train_df[features]\n",
    "y_train = train_df[\"target\"]\n",
    "X_test = test_df[features]\n",
    "y_test = test_df[\"target\"]\n",
    "\n",
    "print(f\"Train: {len(X_train)} rows, Test: {len(X_test)} rows\")"
   ]
  },
  {
   "cell_type": "code",
   "execution_count": null,
   "id": "db11bbf1",
   "metadata": {},
   "outputs": [],
   "source": [
    "model = GradientBoostingClassifier()\n",
    "model.fit(X_train, y_train)"
   ]
  },
  {
   "cell_type": "code",
   "execution_count": null,
   "id": "1bc9c6f8",
   "metadata": {},
   "outputs": [],
   "source": [
    "probs = model.predict_proba(X_test)\n",
    "preds = np.argmax(probs, axis=1)\n",
    "\n",
    "print(\"Accuracy:\", accuracy_score(y_test, preds))\n",
    "print(\"Log Loss:\", log_loss(y_test, probs))\n",
    "print(classification_report(y_test, preds, target_names=[\"Home\", \"Draw\", \"Away\"]))"
   ]
  },
  {
   "cell_type": "code",
   "execution_count": null,
   "id": "047971bd",
   "metadata": {},
   "outputs": [],
   "source": [
    "# Compare predicted vs market probabilities\n",
    "compare_df = test_df[[\"pre_p_H\", \"pre_p_D\", \"pre_p_A\"]].copy()\n",
    "compare_df[[\"model_p_H\", \"model_p_D\", \"model_p_A\"]] = probs\n",
    "\n",
    "plt.figure(figsize=(12,4))\n",
    "for i, outcome in enumerate([\"H\", \"D\", \"A\"]):\n",
    "    plt.subplot(1, 3, i+1)\n",
    "    sns.scatterplot(x=compare_df[f\"pre_p_{outcome}\"], y=compare_df[f\"model_p_{outcome}\"], alpha=0.5)\n",
    "    plt.plot([0, 1], [0, 1], \"--\", color=\"gray\")\n",
    "    plt.xlabel(\"Market pre_p_\" + outcome)\n",
    "    plt.ylabel(\"Model prob_\" + outcome)\n",
    "    plt.title(outcome)\n",
    "plt.tight_layout()\n",
    "plt.show()"
   ]
  }
 ],
 "metadata": {
  "kernelspec": {
   "display_name": "football-edge",
   "language": "python",
   "name": "python3"
  },
  "language_info": {
   "codemirror_mode": {
    "name": "ipython",
    "version": 3
   },
   "file_extension": ".py",
   "mimetype": "text/x-python",
   "name": "python",
   "nbconvert_exporter": "python",
   "pygments_lexer": "ipython3",
   "version": "3.11.13"
  }
 },
 "nbformat": 4,
 "nbformat_minor": 5
}
